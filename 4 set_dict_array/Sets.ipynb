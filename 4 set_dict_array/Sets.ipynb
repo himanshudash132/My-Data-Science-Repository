{
 "cells": [
  {
   "cell_type": "code",
   "execution_count": 1,
   "id": "680d6326",
   "metadata": {},
   "outputs": [],
   "source": [
    "set1 = {1,2,3,4,5}"
   ]
  },
  {
   "cell_type": "code",
   "execution_count": 2,
   "id": "d00424a2",
   "metadata": {},
   "outputs": [],
   "source": [
    "set2 = {'shridhar',\"mankar\",'dsa',\"course\"}"
   ]
  },
  {
   "cell_type": "code",
   "execution_count": 3,
   "id": "0f4b3d2c",
   "metadata": {},
   "outputs": [],
   "source": [
    "set3 = {True, False,False, True}"
   ]
  },
  {
   "cell_type": "code",
   "execution_count": 4,
   "id": "d241c73e",
   "metadata": {},
   "outputs": [
    {
     "name": "stdout",
     "output_type": "stream",
     "text": [
      "<class 'set'>\n",
      "<class 'set'>\n",
      "<class 'set'>\n"
     ]
    }
   ],
   "source": [
    "print(type(set1))\n",
    "print(type(set2))\n",
    "print(type(set3))"
   ]
  },
  {
   "cell_type": "code",
   "execution_count": 5,
   "id": "4794ec0c",
   "metadata": {},
   "outputs": [],
   "source": [
    "set4 = set((5, True, 'yes', \"no\"))"
   ]
  },
  {
   "cell_type": "code",
   "execution_count": 6,
   "id": "33686393",
   "metadata": {},
   "outputs": [
    {
     "name": "stdout",
     "output_type": "stream",
     "text": [
      "<class 'set'>\n"
     ]
    }
   ],
   "source": [
    "print(type(set4))"
   ]
  },
  {
   "cell_type": "code",
   "execution_count": 7,
   "id": "ab32aa0a",
   "metadata": {},
   "outputs": [
    {
     "data": {
      "text/plain": [
       "{5, True, 'no', 'yes'}"
      ]
     },
     "execution_count": 7,
     "metadata": {},
     "output_type": "execute_result"
    }
   ],
   "source": [
    "set4"
   ]
  },
  {
   "cell_type": "code",
   "execution_count": 8,
   "id": "e4d0203a",
   "metadata": {},
   "outputs": [
    {
     "name": "stdout",
     "output_type": "stream",
     "text": [
      "mankar\n",
      "shridhar\n",
      "course\n",
      "dsa\n"
     ]
    }
   ],
   "source": [
    "for i in set2:\n",
    " print(i)"
   ]
  },
  {
   "cell_type": "code",
   "execution_count": 9,
   "id": "172c9c65",
   "metadata": {},
   "outputs": [
    {
     "ename": "TypeError",
     "evalue": "'set' object is not subscriptable",
     "output_type": "error",
     "traceback": [
      "\u001b[0;31m---------------------------------------------------------------------------\u001b[0m",
      "\u001b[0;31mTypeError\u001b[0m                                 Traceback (most recent call last)",
      "\u001b[0;32m/var/folders/m0/4t6ggwz51774ll_46v6qgz3h0000gn/T/ipykernel_22723/63722830.py\u001b[0m in \u001b[0;36m<module>\u001b[0;34m\u001b[0m\n\u001b[0;32m----> 1\u001b[0;31m \u001b[0mset4\u001b[0m\u001b[0;34m[\u001b[0m\u001b[0;36m0\u001b[0m\u001b[0;34m]\u001b[0m\u001b[0;34m\u001b[0m\u001b[0;34m\u001b[0m\u001b[0m\n\u001b[0m",
      "\u001b[0;31mTypeError\u001b[0m: 'set' object is not subscriptable"
     ]
    }
   ],
   "source": [
    "set4[0]"
   ]
  },
  {
   "cell_type": "code",
   "execution_count": 10,
   "id": "5f8c8589",
   "metadata": {},
   "outputs": [
    {
     "data": {
      "text/plain": [
       "{1, 2, 3, 4, 5}"
      ]
     },
     "execution_count": 10,
     "metadata": {},
     "output_type": "execute_result"
    }
   ],
   "source": [
    "sett = {1,1,2,2,3,3,4,4,5,5}\n",
    "sett"
   ]
  },
  {
   "cell_type": "code",
   "execution_count": 11,
   "id": "fe8a8a79",
   "metadata": {},
   "outputs": [
    {
     "name": "stdout",
     "output_type": "stream",
     "text": [
      "True\n"
     ]
    }
   ],
   "source": [
    "print('yes' in set4)"
   ]
  },
  {
   "cell_type": "code",
   "execution_count": 12,
   "id": "87d0f822",
   "metadata": {},
   "outputs": [
    {
     "name": "stdout",
     "output_type": "stream",
     "text": [
      "True\n"
     ]
    }
   ],
   "source": [
    "print(5 in set4)"
   ]
  },
  {
   "cell_type": "code",
   "execution_count": 13,
   "id": "15309f4f",
   "metadata": {},
   "outputs": [],
   "source": [
    "set4.add(False)"
   ]
  },
  {
   "cell_type": "code",
   "execution_count": 14,
   "id": "dd5277ac",
   "metadata": {},
   "outputs": [
    {
     "data": {
      "text/plain": [
       "{5, False, True, 'no', 'yes'}"
      ]
     },
     "execution_count": 14,
     "metadata": {},
     "output_type": "execute_result"
    }
   ],
   "source": [
    "set4"
   ]
  },
  {
   "cell_type": "code",
   "execution_count": 15,
   "id": "3020f50c",
   "metadata": {},
   "outputs": [],
   "source": [
    "set4.add(50)"
   ]
  },
  {
   "cell_type": "code",
   "execution_count": 16,
   "id": "8fdcb2a2",
   "metadata": {},
   "outputs": [
    {
     "data": {
      "text/plain": [
       "{5, 50, False, True, 'no', 'yes'}"
      ]
     },
     "execution_count": 16,
     "metadata": {},
     "output_type": "execute_result"
    }
   ],
   "source": [
    "set4"
   ]
  },
  {
   "cell_type": "code",
   "execution_count": 17,
   "id": "2f475517",
   "metadata": {},
   "outputs": [],
   "source": [
    "set4.add('may be')"
   ]
  },
  {
   "cell_type": "code",
   "execution_count": 18,
   "id": "136cb936",
   "metadata": {},
   "outputs": [
    {
     "data": {
      "text/plain": [
       "{5, 50, False, True, 'may be', 'no', 'yes'}"
      ]
     },
     "execution_count": 18,
     "metadata": {},
     "output_type": "execute_result"
    }
   ],
   "source": [
    "set4"
   ]
  },
  {
   "cell_type": "code",
   "execution_count": 19,
   "id": "5852eb8b",
   "metadata": {},
   "outputs": [],
   "source": [
    "set4.add('xyz')"
   ]
  },
  {
   "cell_type": "code",
   "execution_count": 20,
   "id": "c987c995",
   "metadata": {},
   "outputs": [
    {
     "data": {
      "text/plain": [
       "{5, 50, False, True, 'may be', 'no', 'xyz', 'yes'}"
      ]
     },
     "execution_count": 20,
     "metadata": {},
     "output_type": "execute_result"
    }
   ],
   "source": [
    "set4"
   ]
  },
  {
   "cell_type": "code",
   "execution_count": 21,
   "id": "6f340ce4",
   "metadata": {},
   "outputs": [
    {
     "data": {
      "text/plain": [
       "{5, False, True, 'may be', 'no', 'xyz', 'yes'}"
      ]
     },
     "execution_count": 21,
     "metadata": {},
     "output_type": "execute_result"
    }
   ],
   "source": [
    "set4.remove(50)\n",
    "set4"
   ]
  },
  {
   "cell_type": "code",
   "execution_count": 22,
   "id": "0e86b6eb",
   "metadata": {},
   "outputs": [
    {
     "ename": "KeyError",
     "evalue": "50",
     "output_type": "error",
     "traceback": [
      "\u001b[0;31m---------------------------------------------------------------------------\u001b[0m",
      "\u001b[0;31mKeyError\u001b[0m                                  Traceback (most recent call last)",
      "\u001b[0;32m/var/folders/m0/4t6ggwz51774ll_46v6qgz3h0000gn/T/ipykernel_22723/2391025424.py\u001b[0m in \u001b[0;36m<module>\u001b[0;34m\u001b[0m\n\u001b[0;32m----> 1\u001b[0;31m \u001b[0mset4\u001b[0m\u001b[0;34m.\u001b[0m\u001b[0mremove\u001b[0m\u001b[0;34m(\u001b[0m\u001b[0;36m50\u001b[0m\u001b[0;34m)\u001b[0m\u001b[0;34m\u001b[0m\u001b[0;34m\u001b[0m\u001b[0m\n\u001b[0m",
      "\u001b[0;31mKeyError\u001b[0m: 50"
     ]
    }
   ],
   "source": [
    "set4.remove(50)"
   ]
  },
  {
   "cell_type": "code",
   "execution_count": 23,
   "id": "78bc1711",
   "metadata": {},
   "outputs": [],
   "source": [
    "set4.discard(50)"
   ]
  },
  {
   "cell_type": "code",
   "execution_count": 24,
   "id": "aeae54df",
   "metadata": {},
   "outputs": [
    {
     "data": {
      "text/plain": [
       "{5, False, True, 'may be', 'no', 'xyz', 'yes'}"
      ]
     },
     "execution_count": 24,
     "metadata": {},
     "output_type": "execute_result"
    }
   ],
   "source": [
    "set4"
   ]
  },
  {
   "cell_type": "code",
   "execution_count": 25,
   "id": "ea6b76c0",
   "metadata": {},
   "outputs": [
    {
     "data": {
      "text/plain": [
       "False"
      ]
     },
     "execution_count": 25,
     "metadata": {},
     "output_type": "execute_result"
    }
   ],
   "source": [
    "a = set4.pop()\n",
    "a"
   ]
  },
  {
   "cell_type": "code",
   "execution_count": 26,
   "id": "c0e8b524",
   "metadata": {},
   "outputs": [
    {
     "data": {
      "text/plain": [
       "{5, True, 'may be', 'no', 'xyz', 'yes'}"
      ]
     },
     "execution_count": 26,
     "metadata": {},
     "output_type": "execute_result"
    }
   ],
   "source": [
    "set4"
   ]
  },
  {
   "cell_type": "code",
   "execution_count": 27,
   "id": "b4856197",
   "metadata": {},
   "outputs": [
    {
     "data": {
      "text/plain": [
       "{2, 3, 4, 5, True, 'may be', 'no', 'xyz', 'yes'}"
      ]
     },
     "execution_count": 27,
     "metadata": {},
     "output_type": "execute_result"
    }
   ],
   "source": [
    "set5 = set4.union(set1)\n",
    "set5"
   ]
  },
  {
   "cell_type": "code",
   "execution_count": 40,
   "id": "4f0f7759",
   "metadata": {},
   "outputs": [
    {
     "data": {
      "text/plain": [
       "{0}"
      ]
     },
     "execution_count": 40,
     "metadata": {},
     "output_type": "execute_result"
    }
   ],
   "source": [
    "settt = {0,False}\n",
    "settt"
   ]
  },
  {
   "cell_type": "code",
   "execution_count": 30,
   "id": "471cd94c",
   "metadata": {},
   "outputs": [
    {
     "data": {
      "text/plain": [
       "{2, 3, 4, 5, True, 'may be', 'no', 'xyz', 'yes'}"
      ]
     },
     "execution_count": 30,
     "metadata": {},
     "output_type": "execute_result"
    }
   ],
   "source": [
    "set5.add(1)\n",
    "set5"
   ]
  },
  {
   "cell_type": "code",
   "execution_count": 31,
   "id": "7e44570e",
   "metadata": {},
   "outputs": [],
   "source": [
    "set4.update(set2)"
   ]
  },
  {
   "cell_type": "code",
   "execution_count": 32,
   "id": "561e04e5",
   "metadata": {},
   "outputs": [
    {
     "data": {
      "text/plain": [
       "{5, True, 'course', 'dsa', 'mankar', 'may be', 'no', 'shridhar', 'xyz', 'yes'}"
      ]
     },
     "execution_count": 32,
     "metadata": {},
     "output_type": "execute_result"
    }
   ],
   "source": [
    "set4"
   ]
  },
  {
   "cell_type": "code",
   "execution_count": 33,
   "id": "22e11865",
   "metadata": {},
   "outputs": [
    {
     "data": {
      "text/plain": [
       "{5, True, 'may be', 'no', 'xyz', 'yes'}"
      ]
     },
     "execution_count": 33,
     "metadata": {},
     "output_type": "execute_result"
    }
   ],
   "source": [
    "set6 = set4.difference(set2)\n",
    "set6"
   ]
  },
  {
   "cell_type": "code",
   "execution_count": 34,
   "id": "0bccd0d4",
   "metadata": {},
   "outputs": [
    {
     "data": {
      "text/plain": [
       "{'course', 'dsa', 'mankar', 'shridhar'}"
      ]
     },
     "execution_count": 34,
     "metadata": {},
     "output_type": "execute_result"
    }
   ],
   "source": [
    "set7 = set4.intersection(set2)\n",
    "set7"
   ]
  },
  {
   "cell_type": "code",
   "execution_count": 35,
   "id": "05165c5a",
   "metadata": {},
   "outputs": [
    {
     "data": {
      "text/plain": [
       "{'course', 'dsa', 'mankar', 'shridhar'}"
      ]
     },
     "execution_count": 35,
     "metadata": {},
     "output_type": "execute_result"
    }
   ],
   "source": [
    "set8 = set7.copy()\n",
    "set8"
   ]
  },
  {
   "cell_type": "code",
   "execution_count": 36,
   "id": "6d7b00ca",
   "metadata": {},
   "outputs": [
    {
     "data": {
      "text/plain": [
       "set()"
      ]
     },
     "execution_count": 36,
     "metadata": {},
     "output_type": "execute_result"
    }
   ],
   "source": [
    "set8.clear()\n",
    "set8"
   ]
  },
  {
   "cell_type": "code",
   "execution_count": 37,
   "id": "806bc693",
   "metadata": {},
   "outputs": [
    {
     "data": {
      "text/plain": [
       "{1}"
      ]
     },
     "execution_count": 37,
     "metadata": {},
     "output_type": "execute_result"
    }
   ],
   "source": [
    "set8.add(1)\n",
    "set8"
   ]
  },
  {
   "cell_type": "code",
   "execution_count": 38,
   "id": "68c958d6",
   "metadata": {},
   "outputs": [],
   "source": [
    "del set8"
   ]
  },
  {
   "cell_type": "code",
   "execution_count": 39,
   "id": "3f6d082f",
   "metadata": {},
   "outputs": [
    {
     "ename": "NameError",
     "evalue": "name 'set8' is not defined",
     "output_type": "error",
     "traceback": [
      "\u001b[0;31m---------------------------------------------------------------------------\u001b[0m",
      "\u001b[0;31mNameError\u001b[0m                                 Traceback (most recent call last)",
      "\u001b[0;32m/var/folders/m0/4t6ggwz51774ll_46v6qgz3h0000gn/T/ipykernel_22723/2088820615.py\u001b[0m in \u001b[0;36m<module>\u001b[0;34m\u001b[0m\n\u001b[0;32m----> 1\u001b[0;31m \u001b[0mset8\u001b[0m\u001b[0;34m\u001b[0m\u001b[0;34m\u001b[0m\u001b[0m\n\u001b[0m",
      "\u001b[0;31mNameError\u001b[0m: name 'set8' is not defined"
     ]
    }
   ],
   "source": [
    "set8"
   ]
  },
  {
   "cell_type": "code",
   "execution_count": null,
   "id": "20794993",
   "metadata": {},
   "outputs": [],
   "source": []
  }
 ],
 "metadata": {
  "kernelspec": {
   "display_name": "Python 3 (ipykernel)",
   "language": "python",
   "name": "python3"
  },
  "language_info": {
   "codemirror_mode": {
    "name": "ipython",
    "version": 3
   },
   "file_extension": ".py",
   "mimetype": "text/x-python",
   "name": "python",
   "nbconvert_exporter": "python",
   "pygments_lexer": "ipython3",
   "version": "3.9.13"
  }
 },
 "nbformat": 4,
 "nbformat_minor": 5
}
