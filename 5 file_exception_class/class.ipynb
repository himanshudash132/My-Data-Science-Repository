{
 "cells": [
  {
   "cell_type": "code",
   "execution_count": 1,
   "id": "ad8a98ac",
   "metadata": {},
   "outputs": [],
   "source": [
    "class class1:\n",
    "    v1 = \"shridhar\"\n",
    "    v2 = 1"
   ]
  },
  {
   "cell_type": "code",
   "execution_count": 3,
   "id": "ea40b0ef",
   "metadata": {},
   "outputs": [
    {
     "name": "stdout",
     "output_type": "stream",
     "text": [
      "shridhar\n",
      "1\n"
     ]
    }
   ],
   "source": [
    "obj1 = class1()\n",
    "print(obj1.v1)\n",
    "print(obj1.v2)"
   ]
  },
  {
   "cell_type": "code",
   "execution_count": 4,
   "id": "e8ebdb46",
   "metadata": {},
   "outputs": [
    {
     "name": "stdout",
     "output_type": "stream",
     "text": [
      "shridhar\n",
      "Rajendra\n"
     ]
    }
   ],
   "source": [
    "obj2 = class1()\n",
    "print(obj2.v1)\n",
    "obj2.v1 = \"Rajendra\"\n",
    "print(obj2.v1)"
   ]
  },
  {
   "cell_type": "code",
   "execution_count": 5,
   "id": "41e8423c",
   "metadata": {},
   "outputs": [],
   "source": [
    "class class2:\n",
    "    name = \"shridhar\"\n",
    "    roll_no = 1\n",
    "\n",
    "    def abc(self):\n",
    "        print(\"name-->\",self.name)"
   ]
  },
  {
   "cell_type": "code",
   "execution_count": 6,
   "id": "3eed298a",
   "metadata": {},
   "outputs": [
    {
     "name": "stdout",
     "output_type": "stream",
     "text": [
      "name--> shridhar\n",
      "name--> Rajendra\n"
     ]
    }
   ],
   "source": [
    "obj11 = class2()\n",
    "obj11.abc()\n",
    "obj11.name = \"Rajendra\"\n",
    "obj11.abc()"
   ]
  },
  {
   "cell_type": "code",
   "execution_count": 7,
   "id": "00a0eb85",
   "metadata": {},
   "outputs": [],
   "source": [
    "class class3:\n",
    "    def __init__(self,name):\n",
    "        self.name = name\n",
    "\n",
    "    roll_no = 1\n",
    "\n",
    "    def abc(self):\n",
    "        print(\"name-->\",self.name)"
   ]
  },
  {
   "cell_type": "code",
   "execution_count": 8,
   "id": "dfdaf58d",
   "metadata": {},
   "outputs": [
    {
     "name": "stdout",
     "output_type": "stream",
     "text": [
      "Manisha\n",
      "name--> Manisha\n"
     ]
    }
   ],
   "source": [
    "obj111 = class3(\"Manisha\")\n",
    "print(obj111.name)\n",
    "obj111.abc()"
   ]
  },
  {
   "cell_type": "code",
   "execution_count": 1,
   "id": "3ea7fd5a",
   "metadata": {},
   "outputs": [],
   "source": [
    "class class4:\n",
    "    def __init__(self,name):\n",
    "        self.name = name\n",
    "\n",
    "    roll_no = 1\n",
    "\n",
    "    def abc(self):\n",
    "        print(\"name-->\",self.name)"
   ]
  },
  {
   "cell_type": "code",
   "execution_count": 2,
   "id": "ccc87e2f",
   "metadata": {},
   "outputs": [
    {
     "name": "stdout",
     "output_type": "stream",
     "text": [
      "RRR\n",
      "name--> RRR\n"
     ]
    }
   ],
   "source": [
    "obj1111 = class4(\"RRR\")\n",
    "print(obj1111.name)\n",
    "obj1111.abc()"
   ]
  },
  {
   "cell_type": "code",
   "execution_count": null,
   "id": "85a05626",
   "metadata": {},
   "outputs": [],
   "source": []
  }
 ],
 "metadata": {
  "kernelspec": {
   "display_name": "Python 3 (ipykernel)",
   "language": "python",
   "name": "python3"
  },
  "language_info": {
   "codemirror_mode": {
    "name": "ipython",
    "version": 3
   },
   "file_extension": ".py",
   "mimetype": "text/x-python",
   "name": "python",
   "nbconvert_exporter": "python",
   "pygments_lexer": "ipython3",
   "version": "3.9.13"
  }
 },
 "nbformat": 4,
 "nbformat_minor": 5
}
