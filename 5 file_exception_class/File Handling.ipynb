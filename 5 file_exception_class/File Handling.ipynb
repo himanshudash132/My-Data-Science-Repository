{
 "cells": [
  {
   "cell_type": "code",
   "execution_count": 1,
   "id": "461468c6",
   "metadata": {},
   "outputs": [],
   "source": [
    "file1 = open(\"file1.txt\", \"x\")"
   ]
  },
  {
   "cell_type": "code",
   "execution_count": 2,
   "id": "00228065",
   "metadata": {},
   "outputs": [],
   "source": [
    "file1.write(\"Hello andd welcome dosto to 5 minutes engineering\")\n",
    "file1.close()"
   ]
  },
  {
   "cell_type": "code",
   "execution_count": 3,
   "id": "3d91388d",
   "metadata": {},
   "outputs": [
    {
     "ename": "FileExistsError",
     "evalue": "[Errno 17] File exists: 'file1.txt'",
     "output_type": "error",
     "traceback": [
      "\u001b[0;31m---------------------------------------------------------------------------\u001b[0m",
      "\u001b[0;31mFileExistsError\u001b[0m                           Traceback (most recent call last)",
      "\u001b[0;32m/var/folders/m0/4t6ggwz51774ll_46v6qgz3h0000gn/T/ipykernel_42340/2651183799.py\u001b[0m in \u001b[0;36m<module>\u001b[0;34m\u001b[0m\n\u001b[0;32m----> 1\u001b[0;31m \u001b[0mf1\u001b[0m \u001b[0;34m=\u001b[0m \u001b[0mopen\u001b[0m\u001b[0;34m(\u001b[0m\u001b[0;34m\"file1.txt\"\u001b[0m\u001b[0;34m,\u001b[0m \u001b[0;34m\"x\"\u001b[0m\u001b[0;34m)\u001b[0m\u001b[0;34m\u001b[0m\u001b[0;34m\u001b[0m\u001b[0m\n\u001b[0m",
      "\u001b[0;31mFileExistsError\u001b[0m: [Errno 17] File exists: 'file1.txt'"
     ]
    }
   ],
   "source": [
    "f1 = open(\"file1.txt\", \"x\")"
   ]
  },
  {
   "cell_type": "code",
   "execution_count": 4,
   "id": "02a3aa34",
   "metadata": {},
   "outputs": [
    {
     "name": "stdout",
     "output_type": "stream",
     "text": [
      "Hello andd welcome dosto to 5 minutes engineering\n"
     ]
    }
   ],
   "source": [
    "file1 = open(\"file1.txt\", \"r\")\n",
    "print(file1.read())"
   ]
  },
  {
   "cell_type": "code",
   "execution_count": 5,
   "id": "d0004b32",
   "metadata": {},
   "outputs": [],
   "source": [
    "file2 = open(\"file2.txt\", \"a\")\n",
    "file2.write(\"Append example\")\n",
    "file2.close()"
   ]
  },
  {
   "cell_type": "code",
   "execution_count": 6,
   "id": "c17e75af",
   "metadata": {},
   "outputs": [
    {
     "name": "stdout",
     "output_type": "stream",
     "text": [
      "Append exampleAppend example\n"
     ]
    }
   ],
   "source": [
    "file2 = open(\"file2.txt\", \"r\")\n",
    "print(file2.read())"
   ]
  },
  {
   "cell_type": "code",
   "execution_count": 7,
   "id": "59ff4cfa",
   "metadata": {},
   "outputs": [
    {
     "name": "stdout",
     "output_type": "stream",
     "text": [
      "Hello andd welcome dosto to 5 minutes engineering\n"
     ]
    }
   ],
   "source": [
    "file = open(\"file1.txt\", \"r\")\n",
    "print(file.read())"
   ]
  },
  {
   "cell_type": "code",
   "execution_count": 8,
   "id": "d19f201e",
   "metadata": {},
   "outputs": [],
   "source": [
    "file4 = open(\"file3.txt\", \"w\")\n",
    "file4.write(\"write mode open example\")\n",
    "file4.close()"
   ]
  },
  {
   "cell_type": "code",
   "execution_count": 9,
   "id": "adc0255e",
   "metadata": {},
   "outputs": [
    {
     "name": "stdout",
     "output_type": "stream",
     "text": [
      "write mode open example\n"
     ]
    }
   ],
   "source": [
    "file = open(\"file3.txt\", \"r\")\n",
    "print(file.read())"
   ]
  },
  {
   "cell_type": "code",
   "execution_count": 10,
   "id": "38c1750b",
   "metadata": {},
   "outputs": [],
   "source": [
    "file4 = open(\"file3.txt\", \"w\")\n",
    "file4.write(\"write mode overwrite example\")\n",
    "file4.close()"
   ]
  },
  {
   "cell_type": "code",
   "execution_count": 11,
   "id": "21fbd9b4",
   "metadata": {},
   "outputs": [
    {
     "name": "stdout",
     "output_type": "stream",
     "text": [
      "write mode overwrite example\n"
     ]
    }
   ],
   "source": [
    "file = open(\"file3.txt\", \"r\")\n",
    "print(file.read())"
   ]
  },
  {
   "cell_type": "code",
   "execution_count": 12,
   "id": "d3914570",
   "metadata": {},
   "outputs": [],
   "source": [
    "file4 = open(\"file3.txt\", \"a\")\n",
    "file4.write(\"+++append mode example\")\n",
    "file4.close()"
   ]
  },
  {
   "cell_type": "code",
   "execution_count": 13,
   "id": "6c3dbf5c",
   "metadata": {},
   "outputs": [
    {
     "name": "stdout",
     "output_type": "stream",
     "text": [
      "write mode overwrite example+++append mode example\n"
     ]
    }
   ],
   "source": [
    "file = open(\"file3.txt\", \"r\")\n",
    "print(file.read())"
   ]
  },
  {
   "cell_type": "code",
   "execution_count": 14,
   "id": "0efd7fd5",
   "metadata": {},
   "outputs": [],
   "source": [
    "import os\n",
    "os.remove(\"file1.txt\")"
   ]
  },
  {
   "cell_type": "code",
   "execution_count": 15,
   "id": "c4d97e42",
   "metadata": {},
   "outputs": [],
   "source": [
    "file = open(\"/Users/shridharmankar/Desktop/file5.txt\", \"w\")\n",
    "file.write(\"specific location example\")\n",
    "file.close()"
   ]
  },
  {
   "cell_type": "code",
   "execution_count": 16,
   "id": "59422ee3",
   "metadata": {},
   "outputs": [
    {
     "name": "stdout",
     "output_type": "stream",
     "text": [
      "specific location example\n"
     ]
    }
   ],
   "source": [
    "file = open(\"/Users/shridharmankar/Desktop/file5.txt\", \"r\")\n",
    "print(file.read())"
   ]
  },
  {
   "cell_type": "code",
   "execution_count": 17,
   "id": "b1af11c7",
   "metadata": {},
   "outputs": [],
   "source": [
    "os.remove(\"/Users/shridharmankar/Desktop/file5.txt\")"
   ]
  },
  {
   "cell_type": "code",
   "execution_count": null,
   "id": "51c21f6f",
   "metadata": {},
   "outputs": [],
   "source": []
  },
  {
   "cell_type": "code",
   "execution_count": null,
   "id": "34cca09d",
   "metadata": {},
   "outputs": [],
   "source": []
  }
 ],
 "metadata": {
  "kernelspec": {
   "display_name": "Python 3 (ipykernel)",
   "language": "python",
   "name": "python3"
  },
  "language_info": {
   "codemirror_mode": {
    "name": "ipython",
    "version": 3
   },
   "file_extension": ".py",
   "mimetype": "text/x-python",
   "name": "python",
   "nbconvert_exporter": "python",
   "pygments_lexer": "ipython3",
   "version": "3.9.13"
  }
 },
 "nbformat": 4,
 "nbformat_minor": 5
}
